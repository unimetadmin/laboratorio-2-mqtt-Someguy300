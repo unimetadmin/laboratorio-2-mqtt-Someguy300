{
 "metadata": {
  "language_info": {
   "codemirror_mode": {
    "name": "ipython",
    "version": 3
   },
   "file_extension": ".py",
   "mimetype": "text/x-python",
   "name": "python",
   "nbconvert_exporter": "python",
   "pygments_lexer": "ipython3",
   "version": "3.8.3"
  },
  "orig_nbformat": 2,
  "kernelspec": {
   "name": "python383jvsc74a57bd08792b0059d057bf7946d51552c63c23c9874b1c916e6e98bd2e64bbd9352e356",
   "display_name": "Python 3.8.3 32-bit"
  },
  "metadata": {
   "interpreter": {
    "hash": "8792b0059d057bf7946d51552c63c23c9874b1c916e6e98bd2e64bbd9352e356"
   }
  }
 },
 "nbformat": 4,
 "nbformat_minor": 2,
 "cells": [
  {
   "cell_type": "code",
   "execution_count": null,
   "metadata": {},
   "outputs": [],
   "source": [
    "#GRAFICA TEMP NEVERA\n",
    "#NOTA: EN LOS GRAFICOS ME EQUIVOQUE Y LOS GRAFICOS NO CAMBIAN CUANDO EL PUB\n",
    "#SIGA MANDANDO DATOS, AQUI LOS GRAFICOS CAMBIAN CUANDO EL SUB MANDA DATOS A LA BDD\n",
    "#Resumen del codigo: el sub manda datos a la bdd y este script llama a la bdd\n",
    "#cada 5 seg y si ve que los datos de hace 5 seg son diferentes a los de ahora\n",
    "#actualiza el grafico, de no haber cambiado los datos en 5 seg el script para\n",
    "import psycopg2\n",
    "import plotly.graph_objects as go\n",
    "import numpy as np\n",
    "import time\n",
    "import plotly as py\n",
    "\n",
    "listaX = list()\n",
    "listaY = list()\n",
    "\n",
    "try:\n",
    "    #Conexion a la bdd y query\n",
    "    connection = psycopg2.connect(user=\"yfcxxvyb\",\n",
    "\t\t\t\t\t\t\t\t\tpassword=\"aSIUYi0BfGs7zvYwCrfOPpJNM_vsovOs\",\n",
    "\t\t\t\t\t\t\t\t\thost=\"queenie.db.elephantsql.com\",\n",
    "\t\t\t\t\t\t\t\t\tdatabase=\"yfcxxvyb\")\n",
    "    cursor = connection.cursor()\n",
    "    postgreSQL_select_Query = \"select * from temp_nevera\"\n",
    "    cursor.execute(postgreSQL_select_Query)\n",
    "    registros_tanque = cursor.fetchall()\n",
    "\n",
    "    cursor.close()\n",
    "    connection.close()\n",
    "    \n",
    "    #Primera recolleccion de datos y dibujado del grafico\n",
    "    for row in registros_tanque:\n",
    "        listaX.append(row[1])\n",
    "        listaY.append(row[2])\n",
    "\n",
    "    data = [go.Scatter( x=listaY, y=listaX)]\n",
    "    fig = go.Figure(data)\n",
    "    fig.show()\n",
    "\n",
    "    \n",
    "    #Loop que extrae de la bdd c/5 seg\n",
    "    while(True):\n",
    "        time.sleep(5)\n",
    "        connection = psycopg2.connect(user=\"yfcxxvyb\",\n",
    "                                        password=\"aSIUYi0BfGs7zvYwCrfOPpJNM_vsovOs\",\n",
    "                                        host=\"queenie.db.elephantsql.com\",\n",
    "                                        database=\"yfcxxvyb\")\n",
    "        cursor = connection.cursor()\n",
    "        postgreSQL_select_Query = \"select * from temp_nevera\"\n",
    "        cursor.execute(postgreSQL_select_Query)\n",
    "        auxQuery = cursor.fetchall()\n",
    "        #Si los registros de hace 5 seg son distintos a los de ahora, vuelve a dibujar\n",
    "        #de la manera menos eficaz posible\n",
    "        if(registros_tanque != auxQuery):\n",
    "            print(\"Son distintos\")\n",
    "            registros_tanque = auxQuery\n",
    "            listaX = []\n",
    "            listaY = []\n",
    "            for row in registros_tanque:\n",
    "                listaX.append(row[1])\n",
    "                listaY.append(row[2])\n",
    "            data = [go.Scatter(x=listaY, y=listaX)]\n",
    "            fig = go.Figure(data)\n",
    "            fig.show()\n",
    "            cursor.close()\n",
    "            connection.close()\n",
    "        else:\n",
    "            #si los datos de hace 5seg y los de ahora son iguales sal del loop\n",
    "            print(\"SON IGUALES\")\n",
    "            break   \n",
    "\n",
    "except (Exception, psycopg2.Error) as error:\n",
    "    print(\"Error while fetching data from PostgreSQL\", error)\n",
    "\n",
    "finally:\n",
    "    # closing database connection.\n",
    "    if connection:\n",
    "        cursor.close()\n",
    "        connection.close()\n",
    "        print(\"Conneccion cerrada\")\n",
    "print(\"EXIT\")"
   ]
  },
  {
   "cell_type": "code",
   "execution_count": 11,
   "metadata": {},
   "outputs": [
    {
     "output_type": "stream",
     "name": "stdout",
     "text": [
      "registros_tanque [(1, 107, datetime.datetime(2021, 5, 8, 18, 6, 21, 851325)), (2, 108, datetime.datetime(2021, 5, 8, 18, 6, 27, 105626)), (3, 115, datetime.datetime(2021, 5, 8, 18, 6, 31, 861898)), (4, 100, datetime.datetime(2021, 5, 8, 18, 7, 18, 802583)), (5, 102, datetime.datetime(2021, 5, 8, 18, 7, 23, 949877)), (6, 92, datetime.datetime(2021, 5, 8, 18, 8, 20, 188094)), (7, 90, datetime.datetime(2021, 5, 8, 18, 8, 25, 190380)), (8, 96, datetime.datetime(2021, 5, 8, 18, 8, 30, 147663)), (9, 104, datetime.datetime(2021, 5, 8, 18, 10, 31, 175586)), (10, 103, datetime.datetime(2021, 5, 8, 18, 10, 36, 140870)), (11, 104, datetime.datetime(2021, 5, 8, 18, 10, 41, 130155)), (12, 97, datetime.datetime(2021, 5, 8, 18, 11, 41, 760623)), (13, 94, datetime.datetime(2021, 5, 8, 18, 11, 46, 761909)), (14, 100, datetime.datetime(2021, 5, 8, 18, 13, 22, 402379))]\nPrint each row and it's columns values\n[107, 108, 115, 100, 102, 92, 90, 96, 104, 103, 104, 97, 94, 100] \n\n[datetime.datetime(2021, 5, 8, 18, 6, 21, 851325), datetime.datetime(2021, 5, 8, 18, 6, 27, 105626), datetime.datetime(2021, 5, 8, 18, 6, 31, 861898), datetime.datetime(2021, 5, 8, 18, 7, 18, 802583), datetime.datetime(2021, 5, 8, 18, 7, 23, 949877), datetime.datetime(2021, 5, 8, 18, 8, 20, 188094), datetime.datetime(2021, 5, 8, 18, 8, 25, 190380), datetime.datetime(2021, 5, 8, 18, 8, 30, 147663), datetime.datetime(2021, 5, 8, 18, 10, 31, 175586), datetime.datetime(2021, 5, 8, 18, 10, 36, 140870), datetime.datetime(2021, 5, 8, 18, 10, 41, 130155), datetime.datetime(2021, 5, 8, 18, 11, 41, 760623), datetime.datetime(2021, 5, 8, 18, 11, 46, 761909), datetime.datetime(2021, 5, 8, 18, 13, 22, 402379)] \n\n"
     ]
    },
    {
     "output_type": "display_data",
     "data": {
      "application/vnd.plotly.v1+json": {
       "config": {
        "plotlyServerURL": "https://plot.ly"
       },
       "data": [
        {
         "type": "scatter",
         "x": [
          "2021-05-08T18:06:21.851325",
          "2021-05-08T18:06:27.105626",
          "2021-05-08T18:06:31.861898",
          "2021-05-08T18:07:18.802583",
          "2021-05-08T18:07:23.949877",
          "2021-05-08T18:08:20.188094",
          "2021-05-08T18:08:25.190380",
          "2021-05-08T18:08:30.147663",
          "2021-05-08T18:10:31.175586",
          "2021-05-08T18:10:36.140870",
          "2021-05-08T18:10:41.130155",
          "2021-05-08T18:11:41.760623",
          "2021-05-08T18:11:46.761909",
          "2021-05-08T18:13:22.402379"
         ],
         "y": [
          107,
          108,
          115,
          100,
          102,
          92,
          90,
          96,
          104,
          103,
          104,
          97,
          94,
          100
         ]
        }
       ],
       "layout": {
        "template": {
         "data": {
          "bar": [
           {
            "error_x": {
             "color": "#2a3f5f"
            },
            "error_y": {
             "color": "#2a3f5f"
            },
            "marker": {
             "line": {
              "color": "#E5ECF6",
              "width": 0.5
             }
            },
            "type": "bar"
           }
          ],
          "barpolar": [
           {
            "marker": {
             "line": {
              "color": "#E5ECF6",
              "width": 0.5
             }
            },
            "type": "barpolar"
           }
          ],
          "carpet": [
           {
            "aaxis": {
             "endlinecolor": "#2a3f5f",
             "gridcolor": "white",
             "linecolor": "white",
             "minorgridcolor": "white",
             "startlinecolor": "#2a3f5f"
            },
            "baxis": {
             "endlinecolor": "#2a3f5f",
             "gridcolor": "white",
             "linecolor": "white",
             "minorgridcolor": "white",
             "startlinecolor": "#2a3f5f"
            },
            "type": "carpet"
           }
          ],
          "choropleth": [
           {
            "colorbar": {
             "outlinewidth": 0,
             "ticks": ""
            },
            "type": "choropleth"
           }
          ],
          "contour": [
           {
            "colorbar": {
             "outlinewidth": 0,
             "ticks": ""
            },
            "colorscale": [
             [
              0,
              "#0d0887"
             ],
             [
              0.1111111111111111,
              "#46039f"
             ],
             [
              0.2222222222222222,
              "#7201a8"
             ],
             [
              0.3333333333333333,
              "#9c179e"
             ],
             [
              0.4444444444444444,
              "#bd3786"
             ],
             [
              0.5555555555555556,
              "#d8576b"
             ],
             [
              0.6666666666666666,
              "#ed7953"
             ],
             [
              0.7777777777777778,
              "#fb9f3a"
             ],
             [
              0.8888888888888888,
              "#fdca26"
             ],
             [
              1,
              "#f0f921"
             ]
            ],
            "type": "contour"
           }
          ],
          "contourcarpet": [
           {
            "colorbar": {
             "outlinewidth": 0,
             "ticks": ""
            },
            "type": "contourcarpet"
           }
          ],
          "heatmap": [
           {
            "colorbar": {
             "outlinewidth": 0,
             "ticks": ""
            },
            "colorscale": [
             [
              0,
              "#0d0887"
             ],
             [
              0.1111111111111111,
              "#46039f"
             ],
             [
              0.2222222222222222,
              "#7201a8"
             ],
             [
              0.3333333333333333,
              "#9c179e"
             ],
             [
              0.4444444444444444,
              "#bd3786"
             ],
             [
              0.5555555555555556,
              "#d8576b"
             ],
             [
              0.6666666666666666,
              "#ed7953"
             ],
             [
              0.7777777777777778,
              "#fb9f3a"
             ],
             [
              0.8888888888888888,
              "#fdca26"
             ],
             [
              1,
              "#f0f921"
             ]
            ],
            "type": "heatmap"
           }
          ],
          "heatmapgl": [
           {
            "colorbar": {
             "outlinewidth": 0,
             "ticks": ""
            },
            "colorscale": [
             [
              0,
              "#0d0887"
             ],
             [
              0.1111111111111111,
              "#46039f"
             ],
             [
              0.2222222222222222,
              "#7201a8"
             ],
             [
              0.3333333333333333,
              "#9c179e"
             ],
             [
              0.4444444444444444,
              "#bd3786"
             ],
             [
              0.5555555555555556,
              "#d8576b"
             ],
             [
              0.6666666666666666,
              "#ed7953"
             ],
             [
              0.7777777777777778,
              "#fb9f3a"
             ],
             [
              0.8888888888888888,
              "#fdca26"
             ],
             [
              1,
              "#f0f921"
             ]
            ],
            "type": "heatmapgl"
           }
          ],
          "histogram": [
           {
            "marker": {
             "colorbar": {
              "outlinewidth": 0,
              "ticks": ""
             }
            },
            "type": "histogram"
           }
          ],
          "histogram2d": [
           {
            "colorbar": {
             "outlinewidth": 0,
             "ticks": ""
            },
            "colorscale": [
             [
              0,
              "#0d0887"
             ],
             [
              0.1111111111111111,
              "#46039f"
             ],
             [
              0.2222222222222222,
              "#7201a8"
             ],
             [
              0.3333333333333333,
              "#9c179e"
             ],
             [
              0.4444444444444444,
              "#bd3786"
             ],
             [
              0.5555555555555556,
              "#d8576b"
             ],
             [
              0.6666666666666666,
              "#ed7953"
             ],
             [
              0.7777777777777778,
              "#fb9f3a"
             ],
             [
              0.8888888888888888,
              "#fdca26"
             ],
             [
              1,
              "#f0f921"
             ]
            ],
            "type": "histogram2d"
           }
          ],
          "histogram2dcontour": [
           {
            "colorbar": {
             "outlinewidth": 0,
             "ticks": ""
            },
            "colorscale": [
             [
              0,
              "#0d0887"
             ],
             [
              0.1111111111111111,
              "#46039f"
             ],
             [
              0.2222222222222222,
              "#7201a8"
             ],
             [
              0.3333333333333333,
              "#9c179e"
             ],
             [
              0.4444444444444444,
              "#bd3786"
             ],
             [
              0.5555555555555556,
              "#d8576b"
             ],
             [
              0.6666666666666666,
              "#ed7953"
             ],
             [
              0.7777777777777778,
              "#fb9f3a"
             ],
             [
              0.8888888888888888,
              "#fdca26"
             ],
             [
              1,
              "#f0f921"
             ]
            ],
            "type": "histogram2dcontour"
           }
          ],
          "mesh3d": [
           {
            "colorbar": {
             "outlinewidth": 0,
             "ticks": ""
            },
            "type": "mesh3d"
           }
          ],
          "parcoords": [
           {
            "line": {
             "colorbar": {
              "outlinewidth": 0,
              "ticks": ""
             }
            },
            "type": "parcoords"
           }
          ],
          "pie": [
           {
            "automargin": true,
            "type": "pie"
           }
          ],
          "scatter": [
           {
            "marker": {
             "colorbar": {
              "outlinewidth": 0,
              "ticks": ""
             }
            },
            "type": "scatter"
           }
          ],
          "scatter3d": [
           {
            "line": {
             "colorbar": {
              "outlinewidth": 0,
              "ticks": ""
             }
            },
            "marker": {
             "colorbar": {
              "outlinewidth": 0,
              "ticks": ""
             }
            },
            "type": "scatter3d"
           }
          ],
          "scattercarpet": [
           {
            "marker": {
             "colorbar": {
              "outlinewidth": 0,
              "ticks": ""
             }
            },
            "type": "scattercarpet"
           }
          ],
          "scattergeo": [
           {
            "marker": {
             "colorbar": {
              "outlinewidth": 0,
              "ticks": ""
             }
            },
            "type": "scattergeo"
           }
          ],
          "scattergl": [
           {
            "marker": {
             "colorbar": {
              "outlinewidth": 0,
              "ticks": ""
             }
            },
            "type": "scattergl"
           }
          ],
          "scattermapbox": [
           {
            "marker": {
             "colorbar": {
              "outlinewidth": 0,
              "ticks": ""
             }
            },
            "type": "scattermapbox"
           }
          ],
          "scatterpolar": [
           {
            "marker": {
             "colorbar": {
              "outlinewidth": 0,
              "ticks": ""
             }
            },
            "type": "scatterpolar"
           }
          ],
          "scatterpolargl": [
           {
            "marker": {
             "colorbar": {
              "outlinewidth": 0,
              "ticks": ""
             }
            },
            "type": "scatterpolargl"
           }
          ],
          "scatterternary": [
           {
            "marker": {
             "colorbar": {
              "outlinewidth": 0,
              "ticks": ""
             }
            },
            "type": "scatterternary"
           }
          ],
          "surface": [
           {
            "colorbar": {
             "outlinewidth": 0,
             "ticks": ""
            },
            "colorscale": [
             [
              0,
              "#0d0887"
             ],
             [
              0.1111111111111111,
              "#46039f"
             ],
             [
              0.2222222222222222,
              "#7201a8"
             ],
             [
              0.3333333333333333,
              "#9c179e"
             ],
             [
              0.4444444444444444,
              "#bd3786"
             ],
             [
              0.5555555555555556,
              "#d8576b"
             ],
             [
              0.6666666666666666,
              "#ed7953"
             ],
             [
              0.7777777777777778,
              "#fb9f3a"
             ],
             [
              0.8888888888888888,
              "#fdca26"
             ],
             [
              1,
              "#f0f921"
             ]
            ],
            "type": "surface"
           }
          ],
          "table": [
           {
            "cells": {
             "fill": {
              "color": "#EBF0F8"
             },
             "line": {
              "color": "white"
             }
            },
            "header": {
             "fill": {
              "color": "#C8D4E3"
             },
             "line": {
              "color": "white"
             }
            },
            "type": "table"
           }
          ]
         },
         "layout": {
          "annotationdefaults": {
           "arrowcolor": "#2a3f5f",
           "arrowhead": 0,
           "arrowwidth": 1
          },
          "autotypenumbers": "strict",
          "coloraxis": {
           "colorbar": {
            "outlinewidth": 0,
            "ticks": ""
           }
          },
          "colorscale": {
           "diverging": [
            [
             0,
             "#8e0152"
            ],
            [
             0.1,
             "#c51b7d"
            ],
            [
             0.2,
             "#de77ae"
            ],
            [
             0.3,
             "#f1b6da"
            ],
            [
             0.4,
             "#fde0ef"
            ],
            [
             0.5,
             "#f7f7f7"
            ],
            [
             0.6,
             "#e6f5d0"
            ],
            [
             0.7,
             "#b8e186"
            ],
            [
             0.8,
             "#7fbc41"
            ],
            [
             0.9,
             "#4d9221"
            ],
            [
             1,
             "#276419"
            ]
           ],
           "sequential": [
            [
             0,
             "#0d0887"
            ],
            [
             0.1111111111111111,
             "#46039f"
            ],
            [
             0.2222222222222222,
             "#7201a8"
            ],
            [
             0.3333333333333333,
             "#9c179e"
            ],
            [
             0.4444444444444444,
             "#bd3786"
            ],
            [
             0.5555555555555556,
             "#d8576b"
            ],
            [
             0.6666666666666666,
             "#ed7953"
            ],
            [
             0.7777777777777778,
             "#fb9f3a"
            ],
            [
             0.8888888888888888,
             "#fdca26"
            ],
            [
             1,
             "#f0f921"
            ]
           ],
           "sequentialminus": [
            [
             0,
             "#0d0887"
            ],
            [
             0.1111111111111111,
             "#46039f"
            ],
            [
             0.2222222222222222,
             "#7201a8"
            ],
            [
             0.3333333333333333,
             "#9c179e"
            ],
            [
             0.4444444444444444,
             "#bd3786"
            ],
            [
             0.5555555555555556,
             "#d8576b"
            ],
            [
             0.6666666666666666,
             "#ed7953"
            ],
            [
             0.7777777777777778,
             "#fb9f3a"
            ],
            [
             0.8888888888888888,
             "#fdca26"
            ],
            [
             1,
             "#f0f921"
            ]
           ]
          },
          "colorway": [
           "#636efa",
           "#EF553B",
           "#00cc96",
           "#ab63fa",
           "#FFA15A",
           "#19d3f3",
           "#FF6692",
           "#B6E880",
           "#FF97FF",
           "#FECB52"
          ],
          "font": {
           "color": "#2a3f5f"
          },
          "geo": {
           "bgcolor": "white",
           "lakecolor": "white",
           "landcolor": "#E5ECF6",
           "showlakes": true,
           "showland": true,
           "subunitcolor": "white"
          },
          "hoverlabel": {
           "align": "left"
          },
          "hovermode": "closest",
          "mapbox": {
           "style": "light"
          },
          "paper_bgcolor": "white",
          "plot_bgcolor": "#E5ECF6",
          "polar": {
           "angularaxis": {
            "gridcolor": "white",
            "linecolor": "white",
            "ticks": ""
           },
           "bgcolor": "#E5ECF6",
           "radialaxis": {
            "gridcolor": "white",
            "linecolor": "white",
            "ticks": ""
           }
          },
          "scene": {
           "xaxis": {
            "backgroundcolor": "#E5ECF6",
            "gridcolor": "white",
            "gridwidth": 2,
            "linecolor": "white",
            "showbackground": true,
            "ticks": "",
            "zerolinecolor": "white"
           },
           "yaxis": {
            "backgroundcolor": "#E5ECF6",
            "gridcolor": "white",
            "gridwidth": 2,
            "linecolor": "white",
            "showbackground": true,
            "ticks": "",
            "zerolinecolor": "white"
           },
           "zaxis": {
            "backgroundcolor": "#E5ECF6",
            "gridcolor": "white",
            "gridwidth": 2,
            "linecolor": "white",
            "showbackground": true,
            "ticks": "",
            "zerolinecolor": "white"
           }
          },
          "shapedefaults": {
           "line": {
            "color": "#2a3f5f"
           }
          },
          "ternary": {
           "aaxis": {
            "gridcolor": "white",
            "linecolor": "white",
            "ticks": ""
           },
           "baxis": {
            "gridcolor": "white",
            "linecolor": "white",
            "ticks": ""
           },
           "bgcolor": "#E5ECF6",
           "caxis": {
            "gridcolor": "white",
            "linecolor": "white",
            "ticks": ""
           }
          },
          "title": {
           "x": 0.05
          },
          "xaxis": {
           "automargin": true,
           "gridcolor": "white",
           "linecolor": "white",
           "ticks": "",
           "title": {
            "standoff": 15
           },
           "zerolinecolor": "white",
           "zerolinewidth": 2
          },
          "yaxis": {
           "automargin": true,
           "gridcolor": "white",
           "linecolor": "white",
           "ticks": "",
           "title": {
            "standoff": 15
           },
           "zerolinecolor": "white",
           "zerolinewidth": 2
          }
         }
        }
       }
      }
     },
     "metadata": {}
    },
    {
     "output_type": "stream",
     "name": "stdout",
     "text": [
      "son distintos\nauxquery dentro if:  [(1, 107, datetime.datetime(2021, 5, 8, 18, 6, 21, 851325)), (2, 108, datetime.datetime(2021, 5, 8, 18, 6, 27, 105626)), (3, 115, datetime.datetime(2021, 5, 8, 18, 6, 31, 861898)), (4, 100, datetime.datetime(2021, 5, 8, 18, 7, 18, 802583)), (5, 102, datetime.datetime(2021, 5, 8, 18, 7, 23, 949877)), (6, 92, datetime.datetime(2021, 5, 8, 18, 8, 20, 188094)), (7, 90, datetime.datetime(2021, 5, 8, 18, 8, 25, 190380)), (8, 96, datetime.datetime(2021, 5, 8, 18, 8, 30, 147663)), (9, 104, datetime.datetime(2021, 5, 8, 18, 10, 31, 175586)), (10, 103, datetime.datetime(2021, 5, 8, 18, 10, 36, 140870)), (11, 104, datetime.datetime(2021, 5, 8, 18, 10, 41, 130155)), (12, 97, datetime.datetime(2021, 5, 8, 18, 11, 41, 760623)), (13, 94, datetime.datetime(2021, 5, 8, 18, 11, 46, 761909)), (14, 100, datetime.datetime(2021, 5, 8, 18, 13, 22, 402379)), (15, 102, datetime.datetime(2021, 5, 8, 18, 13, 27, 400665))]\n"
     ]
    },
    {
     "output_type": "display_data",
     "data": {
      "application/vnd.plotly.v1+json": {
       "config": {
        "plotlyServerURL": "https://plot.ly"
       },
       "data": [
        {
         "type": "scatter",
         "x": [
          "2021-05-08T18:06:21.851325",
          "2021-05-08T18:06:27.105626",
          "2021-05-08T18:06:31.861898",
          "2021-05-08T18:07:18.802583",
          "2021-05-08T18:07:23.949877",
          "2021-05-08T18:08:20.188094",
          "2021-05-08T18:08:25.190380",
          "2021-05-08T18:08:30.147663",
          "2021-05-08T18:10:31.175586",
          "2021-05-08T18:10:36.140870",
          "2021-05-08T18:10:41.130155",
          "2021-05-08T18:11:41.760623",
          "2021-05-08T18:11:46.761909",
          "2021-05-08T18:13:22.402379",
          "2021-05-08T18:13:27.400665"
         ],
         "y": [
          107,
          108,
          115,
          100,
          102,
          92,
          90,
          96,
          104,
          103,
          104,
          97,
          94,
          100,
          102
         ]
        }
       ],
       "layout": {
        "template": {
         "data": {
          "bar": [
           {
            "error_x": {
             "color": "#2a3f5f"
            },
            "error_y": {
             "color": "#2a3f5f"
            },
            "marker": {
             "line": {
              "color": "#E5ECF6",
              "width": 0.5
             }
            },
            "type": "bar"
           }
          ],
          "barpolar": [
           {
            "marker": {
             "line": {
              "color": "#E5ECF6",
              "width": 0.5
             }
            },
            "type": "barpolar"
           }
          ],
          "carpet": [
           {
            "aaxis": {
             "endlinecolor": "#2a3f5f",
             "gridcolor": "white",
             "linecolor": "white",
             "minorgridcolor": "white",
             "startlinecolor": "#2a3f5f"
            },
            "baxis": {
             "endlinecolor": "#2a3f5f",
             "gridcolor": "white",
             "linecolor": "white",
             "minorgridcolor": "white",
             "startlinecolor": "#2a3f5f"
            },
            "type": "carpet"
           }
          ],
          "choropleth": [
           {
            "colorbar": {
             "outlinewidth": 0,
             "ticks": ""
            },
            "type": "choropleth"
           }
          ],
          "contour": [
           {
            "colorbar": {
             "outlinewidth": 0,
             "ticks": ""
            },
            "colorscale": [
             [
              0,
              "#0d0887"
             ],
             [
              0.1111111111111111,
              "#46039f"
             ],
             [
              0.2222222222222222,
              "#7201a8"
             ],
             [
              0.3333333333333333,
              "#9c179e"
             ],
             [
              0.4444444444444444,
              "#bd3786"
             ],
             [
              0.5555555555555556,
              "#d8576b"
             ],
             [
              0.6666666666666666,
              "#ed7953"
             ],
             [
              0.7777777777777778,
              "#fb9f3a"
             ],
             [
              0.8888888888888888,
              "#fdca26"
             ],
             [
              1,
              "#f0f921"
             ]
            ],
            "type": "contour"
           }
          ],
          "contourcarpet": [
           {
            "colorbar": {
             "outlinewidth": 0,
             "ticks": ""
            },
            "type": "contourcarpet"
           }
          ],
          "heatmap": [
           {
            "colorbar": {
             "outlinewidth": 0,
             "ticks": ""
            },
            "colorscale": [
             [
              0,
              "#0d0887"
             ],
             [
              0.1111111111111111,
              "#46039f"
             ],
             [
              0.2222222222222222,
              "#7201a8"
             ],
             [
              0.3333333333333333,
              "#9c179e"
             ],
             [
              0.4444444444444444,
              "#bd3786"
             ],
             [
              0.5555555555555556,
              "#d8576b"
             ],
             [
              0.6666666666666666,
              "#ed7953"
             ],
             [
              0.7777777777777778,
              "#fb9f3a"
             ],
             [
              0.8888888888888888,
              "#fdca26"
             ],
             [
              1,
              "#f0f921"
             ]
            ],
            "type": "heatmap"
           }
          ],
          "heatmapgl": [
           {
            "colorbar": {
             "outlinewidth": 0,
             "ticks": ""
            },
            "colorscale": [
             [
              0,
              "#0d0887"
             ],
             [
              0.1111111111111111,
              "#46039f"
             ],
             [
              0.2222222222222222,
              "#7201a8"
             ],
             [
              0.3333333333333333,
              "#9c179e"
             ],
             [
              0.4444444444444444,
              "#bd3786"
             ],
             [
              0.5555555555555556,
              "#d8576b"
             ],
             [
              0.6666666666666666,
              "#ed7953"
             ],
             [
              0.7777777777777778,
              "#fb9f3a"
             ],
             [
              0.8888888888888888,
              "#fdca26"
             ],
             [
              1,
              "#f0f921"
             ]
            ],
            "type": "heatmapgl"
           }
          ],
          "histogram": [
           {
            "marker": {
             "colorbar": {
              "outlinewidth": 0,
              "ticks": ""
             }
            },
            "type": "histogram"
           }
          ],
          "histogram2d": [
           {
            "colorbar": {
             "outlinewidth": 0,
             "ticks": ""
            },
            "colorscale": [
             [
              0,
              "#0d0887"
             ],
             [
              0.1111111111111111,
              "#46039f"
             ],
             [
              0.2222222222222222,
              "#7201a8"
             ],
             [
              0.3333333333333333,
              "#9c179e"
             ],
             [
              0.4444444444444444,
              "#bd3786"
             ],
             [
              0.5555555555555556,
              "#d8576b"
             ],
             [
              0.6666666666666666,
              "#ed7953"
             ],
             [
              0.7777777777777778,
              "#fb9f3a"
             ],
             [
              0.8888888888888888,
              "#fdca26"
             ],
             [
              1,
              "#f0f921"
             ]
            ],
            "type": "histogram2d"
           }
          ],
          "histogram2dcontour": [
           {
            "colorbar": {
             "outlinewidth": 0,
             "ticks": ""
            },
            "colorscale": [
             [
              0,
              "#0d0887"
             ],
             [
              0.1111111111111111,
              "#46039f"
             ],
             [
              0.2222222222222222,
              "#7201a8"
             ],
             [
              0.3333333333333333,
              "#9c179e"
             ],
             [
              0.4444444444444444,
              "#bd3786"
             ],
             [
              0.5555555555555556,
              "#d8576b"
             ],
             [
              0.6666666666666666,
              "#ed7953"
             ],
             [
              0.7777777777777778,
              "#fb9f3a"
             ],
             [
              0.8888888888888888,
              "#fdca26"
             ],
             [
              1,
              "#f0f921"
             ]
            ],
            "type": "histogram2dcontour"
           }
          ],
          "mesh3d": [
           {
            "colorbar": {
             "outlinewidth": 0,
             "ticks": ""
            },
            "type": "mesh3d"
           }
          ],
          "parcoords": [
           {
            "line": {
             "colorbar": {
              "outlinewidth": 0,
              "ticks": ""
             }
            },
            "type": "parcoords"
           }
          ],
          "pie": [
           {
            "automargin": true,
            "type": "pie"
           }
          ],
          "scatter": [
           {
            "marker": {
             "colorbar": {
              "outlinewidth": 0,
              "ticks": ""
             }
            },
            "type": "scatter"
           }
          ],
          "scatter3d": [
           {
            "line": {
             "colorbar": {
              "outlinewidth": 0,
              "ticks": ""
             }
            },
            "marker": {
             "colorbar": {
              "outlinewidth": 0,
              "ticks": ""
             }
            },
            "type": "scatter3d"
           }
          ],
          "scattercarpet": [
           {
            "marker": {
             "colorbar": {
              "outlinewidth": 0,
              "ticks": ""
             }
            },
            "type": "scattercarpet"
           }
          ],
          "scattergeo": [
           {
            "marker": {
             "colorbar": {
              "outlinewidth": 0,
              "ticks": ""
             }
            },
            "type": "scattergeo"
           }
          ],
          "scattergl": [
           {
            "marker": {
             "colorbar": {
              "outlinewidth": 0,
              "ticks": ""
             }
            },
            "type": "scattergl"
           }
          ],
          "scattermapbox": [
           {
            "marker": {
             "colorbar": {
              "outlinewidth": 0,
              "ticks": ""
             }
            },
            "type": "scattermapbox"
           }
          ],
          "scatterpolar": [
           {
            "marker": {
             "colorbar": {
              "outlinewidth": 0,
              "ticks": ""
             }
            },
            "type": "scatterpolar"
           }
          ],
          "scatterpolargl": [
           {
            "marker": {
             "colorbar": {
              "outlinewidth": 0,
              "ticks": ""
             }
            },
            "type": "scatterpolargl"
           }
          ],
          "scatterternary": [
           {
            "marker": {
             "colorbar": {
              "outlinewidth": 0,
              "ticks": ""
             }
            },
            "type": "scatterternary"
           }
          ],
          "surface": [
           {
            "colorbar": {
             "outlinewidth": 0,
             "ticks": ""
            },
            "colorscale": [
             [
              0,
              "#0d0887"
             ],
             [
              0.1111111111111111,
              "#46039f"
             ],
             [
              0.2222222222222222,
              "#7201a8"
             ],
             [
              0.3333333333333333,
              "#9c179e"
             ],
             [
              0.4444444444444444,
              "#bd3786"
             ],
             [
              0.5555555555555556,
              "#d8576b"
             ],
             [
              0.6666666666666666,
              "#ed7953"
             ],
             [
              0.7777777777777778,
              "#fb9f3a"
             ],
             [
              0.8888888888888888,
              "#fdca26"
             ],
             [
              1,
              "#f0f921"
             ]
            ],
            "type": "surface"
           }
          ],
          "table": [
           {
            "cells": {
             "fill": {
              "color": "#EBF0F8"
             },
             "line": {
              "color": "white"
             }
            },
            "header": {
             "fill": {
              "color": "#C8D4E3"
             },
             "line": {
              "color": "white"
             }
            },
            "type": "table"
           }
          ]
         },
         "layout": {
          "annotationdefaults": {
           "arrowcolor": "#2a3f5f",
           "arrowhead": 0,
           "arrowwidth": 1
          },
          "autotypenumbers": "strict",
          "coloraxis": {
           "colorbar": {
            "outlinewidth": 0,
            "ticks": ""
           }
          },
          "colorscale": {
           "diverging": [
            [
             0,
             "#8e0152"
            ],
            [
             0.1,
             "#c51b7d"
            ],
            [
             0.2,
             "#de77ae"
            ],
            [
             0.3,
             "#f1b6da"
            ],
            [
             0.4,
             "#fde0ef"
            ],
            [
             0.5,
             "#f7f7f7"
            ],
            [
             0.6,
             "#e6f5d0"
            ],
            [
             0.7,
             "#b8e186"
            ],
            [
             0.8,
             "#7fbc41"
            ],
            [
             0.9,
             "#4d9221"
            ],
            [
             1,
             "#276419"
            ]
           ],
           "sequential": [
            [
             0,
             "#0d0887"
            ],
            [
             0.1111111111111111,
             "#46039f"
            ],
            [
             0.2222222222222222,
             "#7201a8"
            ],
            [
             0.3333333333333333,
             "#9c179e"
            ],
            [
             0.4444444444444444,
             "#bd3786"
            ],
            [
             0.5555555555555556,
             "#d8576b"
            ],
            [
             0.6666666666666666,
             "#ed7953"
            ],
            [
             0.7777777777777778,
             "#fb9f3a"
            ],
            [
             0.8888888888888888,
             "#fdca26"
            ],
            [
             1,
             "#f0f921"
            ]
           ],
           "sequentialminus": [
            [
             0,
             "#0d0887"
            ],
            [
             0.1111111111111111,
             "#46039f"
            ],
            [
             0.2222222222222222,
             "#7201a8"
            ],
            [
             0.3333333333333333,
             "#9c179e"
            ],
            [
             0.4444444444444444,
             "#bd3786"
            ],
            [
             0.5555555555555556,
             "#d8576b"
            ],
            [
             0.6666666666666666,
             "#ed7953"
            ],
            [
             0.7777777777777778,
             "#fb9f3a"
            ],
            [
             0.8888888888888888,
             "#fdca26"
            ],
            [
             1,
             "#f0f921"
            ]
           ]
          },
          "colorway": [
           "#636efa",
           "#EF553B",
           "#00cc96",
           "#ab63fa",
           "#FFA15A",
           "#19d3f3",
           "#FF6692",
           "#B6E880",
           "#FF97FF",
           "#FECB52"
          ],
          "font": {
           "color": "#2a3f5f"
          },
          "geo": {
           "bgcolor": "white",
           "lakecolor": "white",
           "landcolor": "#E5ECF6",
           "showlakes": true,
           "showland": true,
           "subunitcolor": "white"
          },
          "hoverlabel": {
           "align": "left"
          },
          "hovermode": "closest",
          "mapbox": {
           "style": "light"
          },
          "paper_bgcolor": "white",
          "plot_bgcolor": "#E5ECF6",
          "polar": {
           "angularaxis": {
            "gridcolor": "white",
            "linecolor": "white",
            "ticks": ""
           },
           "bgcolor": "#E5ECF6",
           "radialaxis": {
            "gridcolor": "white",
            "linecolor": "white",
            "ticks": ""
           }
          },
          "scene": {
           "xaxis": {
            "backgroundcolor": "#E5ECF6",
            "gridcolor": "white",
            "gridwidth": 2,
            "linecolor": "white",
            "showbackground": true,
            "ticks": "",
            "zerolinecolor": "white"
           },
           "yaxis": {
            "backgroundcolor": "#E5ECF6",
            "gridcolor": "white",
            "gridwidth": 2,
            "linecolor": "white",
            "showbackground": true,
            "ticks": "",
            "zerolinecolor": "white"
           },
           "zaxis": {
            "backgroundcolor": "#E5ECF6",
            "gridcolor": "white",
            "gridwidth": 2,
            "linecolor": "white",
            "showbackground": true,
            "ticks": "",
            "zerolinecolor": "white"
           }
          },
          "shapedefaults": {
           "line": {
            "color": "#2a3f5f"
           }
          },
          "ternary": {
           "aaxis": {
            "gridcolor": "white",
            "linecolor": "white",
            "ticks": ""
           },
           "baxis": {
            "gridcolor": "white",
            "linecolor": "white",
            "ticks": ""
           },
           "bgcolor": "#E5ECF6",
           "caxis": {
            "gridcolor": "white",
            "linecolor": "white",
            "ticks": ""
           }
          },
          "title": {
           "x": 0.05
          },
          "xaxis": {
           "automargin": true,
           "gridcolor": "white",
           "linecolor": "white",
           "ticks": "",
           "title": {
            "standoff": 15
           },
           "zerolinecolor": "white",
           "zerolinewidth": 2
          },
          "yaxis": {
           "automargin": true,
           "gridcolor": "white",
           "linecolor": "white",
           "ticks": "",
           "title": {
            "standoff": 15
           },
           "zerolinecolor": "white",
           "zerolinewidth": 2
          }
         }
        }
       }
      }
     },
     "metadata": {}
    },
    {
     "output_type": "stream",
     "name": "stdout",
     "text": [
      "son distintos\nauxquery dentro if:  [(1, 107, datetime.datetime(2021, 5, 8, 18, 6, 21, 851325)), (2, 108, datetime.datetime(2021, 5, 8, 18, 6, 27, 105626)), (3, 115, datetime.datetime(2021, 5, 8, 18, 6, 31, 861898)), (4, 100, datetime.datetime(2021, 5, 8, 18, 7, 18, 802583)), (5, 102, datetime.datetime(2021, 5, 8, 18, 7, 23, 949877)), (6, 92, datetime.datetime(2021, 5, 8, 18, 8, 20, 188094)), (7, 90, datetime.datetime(2021, 5, 8, 18, 8, 25, 190380)), (8, 96, datetime.datetime(2021, 5, 8, 18, 8, 30, 147663)), (9, 104, datetime.datetime(2021, 5, 8, 18, 10, 31, 175586)), (10, 103, datetime.datetime(2021, 5, 8, 18, 10, 36, 140870)), (11, 104, datetime.datetime(2021, 5, 8, 18, 10, 41, 130155)), (12, 97, datetime.datetime(2021, 5, 8, 18, 11, 41, 760623)), (13, 94, datetime.datetime(2021, 5, 8, 18, 11, 46, 761909)), (14, 100, datetime.datetime(2021, 5, 8, 18, 13, 22, 402379)), (15, 102, datetime.datetime(2021, 5, 8, 18, 13, 27, 400665)), (16, 104, datetime.datetime(2021, 5, 8, 18, 13, 32, 364949))]\n"
     ]
    },
    {
     "output_type": "display_data",
     "data": {
      "application/vnd.plotly.v1+json": {
       "config": {
        "plotlyServerURL": "https://plot.ly"
       },
       "data": [
        {
         "type": "scatter",
         "x": [
          "2021-05-08T18:06:21.851325",
          "2021-05-08T18:06:27.105626",
          "2021-05-08T18:06:31.861898",
          "2021-05-08T18:07:18.802583",
          "2021-05-08T18:07:23.949877",
          "2021-05-08T18:08:20.188094",
          "2021-05-08T18:08:25.190380",
          "2021-05-08T18:08:30.147663",
          "2021-05-08T18:10:31.175586",
          "2021-05-08T18:10:36.140870",
          "2021-05-08T18:10:41.130155",
          "2021-05-08T18:11:41.760623",
          "2021-05-08T18:11:46.761909",
          "2021-05-08T18:13:22.402379",
          "2021-05-08T18:13:27.400665",
          "2021-05-08T18:13:32.364949"
         ],
         "y": [
          107,
          108,
          115,
          100,
          102,
          92,
          90,
          96,
          104,
          103,
          104,
          97,
          94,
          100,
          102,
          104
         ]
        }
       ],
       "layout": {
        "template": {
         "data": {
          "bar": [
           {
            "error_x": {
             "color": "#2a3f5f"
            },
            "error_y": {
             "color": "#2a3f5f"
            },
            "marker": {
             "line": {
              "color": "#E5ECF6",
              "width": 0.5
             }
            },
            "type": "bar"
           }
          ],
          "barpolar": [
           {
            "marker": {
             "line": {
              "color": "#E5ECF6",
              "width": 0.5
             }
            },
            "type": "barpolar"
           }
          ],
          "carpet": [
           {
            "aaxis": {
             "endlinecolor": "#2a3f5f",
             "gridcolor": "white",
             "linecolor": "white",
             "minorgridcolor": "white",
             "startlinecolor": "#2a3f5f"
            },
            "baxis": {
             "endlinecolor": "#2a3f5f",
             "gridcolor": "white",
             "linecolor": "white",
             "minorgridcolor": "white",
             "startlinecolor": "#2a3f5f"
            },
            "type": "carpet"
           }
          ],
          "choropleth": [
           {
            "colorbar": {
             "outlinewidth": 0,
             "ticks": ""
            },
            "type": "choropleth"
           }
          ],
          "contour": [
           {
            "colorbar": {
             "outlinewidth": 0,
             "ticks": ""
            },
            "colorscale": [
             [
              0,
              "#0d0887"
             ],
             [
              0.1111111111111111,
              "#46039f"
             ],
             [
              0.2222222222222222,
              "#7201a8"
             ],
             [
              0.3333333333333333,
              "#9c179e"
             ],
             [
              0.4444444444444444,
              "#bd3786"
             ],
             [
              0.5555555555555556,
              "#d8576b"
             ],
             [
              0.6666666666666666,
              "#ed7953"
             ],
             [
              0.7777777777777778,
              "#fb9f3a"
             ],
             [
              0.8888888888888888,
              "#fdca26"
             ],
             [
              1,
              "#f0f921"
             ]
            ],
            "type": "contour"
           }
          ],
          "contourcarpet": [
           {
            "colorbar": {
             "outlinewidth": 0,
             "ticks": ""
            },
            "type": "contourcarpet"
           }
          ],
          "heatmap": [
           {
            "colorbar": {
             "outlinewidth": 0,
             "ticks": ""
            },
            "colorscale": [
             [
              0,
              "#0d0887"
             ],
             [
              0.1111111111111111,
              "#46039f"
             ],
             [
              0.2222222222222222,
              "#7201a8"
             ],
             [
              0.3333333333333333,
              "#9c179e"
             ],
             [
              0.4444444444444444,
              "#bd3786"
             ],
             [
              0.5555555555555556,
              "#d8576b"
             ],
             [
              0.6666666666666666,
              "#ed7953"
             ],
             [
              0.7777777777777778,
              "#fb9f3a"
             ],
             [
              0.8888888888888888,
              "#fdca26"
             ],
             [
              1,
              "#f0f921"
             ]
            ],
            "type": "heatmap"
           }
          ],
          "heatmapgl": [
           {
            "colorbar": {
             "outlinewidth": 0,
             "ticks": ""
            },
            "colorscale": [
             [
              0,
              "#0d0887"
             ],
             [
              0.1111111111111111,
              "#46039f"
             ],
             [
              0.2222222222222222,
              "#7201a8"
             ],
             [
              0.3333333333333333,
              "#9c179e"
             ],
             [
              0.4444444444444444,
              "#bd3786"
             ],
             [
              0.5555555555555556,
              "#d8576b"
             ],
             [
              0.6666666666666666,
              "#ed7953"
             ],
             [
              0.7777777777777778,
              "#fb9f3a"
             ],
             [
              0.8888888888888888,
              "#fdca26"
             ],
             [
              1,
              "#f0f921"
             ]
            ],
            "type": "heatmapgl"
           }
          ],
          "histogram": [
           {
            "marker": {
             "colorbar": {
              "outlinewidth": 0,
              "ticks": ""
             }
            },
            "type": "histogram"
           }
          ],
          "histogram2d": [
           {
            "colorbar": {
             "outlinewidth": 0,
             "ticks": ""
            },
            "colorscale": [
             [
              0,
              "#0d0887"
             ],
             [
              0.1111111111111111,
              "#46039f"
             ],
             [
              0.2222222222222222,
              "#7201a8"
             ],
             [
              0.3333333333333333,
              "#9c179e"
             ],
             [
              0.4444444444444444,
              "#bd3786"
             ],
             [
              0.5555555555555556,
              "#d8576b"
             ],
             [
              0.6666666666666666,
              "#ed7953"
             ],
             [
              0.7777777777777778,
              "#fb9f3a"
             ],
             [
              0.8888888888888888,
              "#fdca26"
             ],
             [
              1,
              "#f0f921"
             ]
            ],
            "type": "histogram2d"
           }
          ],
          "histogram2dcontour": [
           {
            "colorbar": {
             "outlinewidth": 0,
             "ticks": ""
            },
            "colorscale": [
             [
              0,
              "#0d0887"
             ],
             [
              0.1111111111111111,
              "#46039f"
             ],
             [
              0.2222222222222222,
              "#7201a8"
             ],
             [
              0.3333333333333333,
              "#9c179e"
             ],
             [
              0.4444444444444444,
              "#bd3786"
             ],
             [
              0.5555555555555556,
              "#d8576b"
             ],
             [
              0.6666666666666666,
              "#ed7953"
             ],
             [
              0.7777777777777778,
              "#fb9f3a"
             ],
             [
              0.8888888888888888,
              "#fdca26"
             ],
             [
              1,
              "#f0f921"
             ]
            ],
            "type": "histogram2dcontour"
           }
          ],
          "mesh3d": [
           {
            "colorbar": {
             "outlinewidth": 0,
             "ticks": ""
            },
            "type": "mesh3d"
           }
          ],
          "parcoords": [
           {
            "line": {
             "colorbar": {
              "outlinewidth": 0,
              "ticks": ""
             }
            },
            "type": "parcoords"
           }
          ],
          "pie": [
           {
            "automargin": true,
            "type": "pie"
           }
          ],
          "scatter": [
           {
            "marker": {
             "colorbar": {
              "outlinewidth": 0,
              "ticks": ""
             }
            },
            "type": "scatter"
           }
          ],
          "scatter3d": [
           {
            "line": {
             "colorbar": {
              "outlinewidth": 0,
              "ticks": ""
             }
            },
            "marker": {
             "colorbar": {
              "outlinewidth": 0,
              "ticks": ""
             }
            },
            "type": "scatter3d"
           }
          ],
          "scattercarpet": [
           {
            "marker": {
             "colorbar": {
              "outlinewidth": 0,
              "ticks": ""
             }
            },
            "type": "scattercarpet"
           }
          ],
          "scattergeo": [
           {
            "marker": {
             "colorbar": {
              "outlinewidth": 0,
              "ticks": ""
             }
            },
            "type": "scattergeo"
           }
          ],
          "scattergl": [
           {
            "marker": {
             "colorbar": {
              "outlinewidth": 0,
              "ticks": ""
             }
            },
            "type": "scattergl"
           }
          ],
          "scattermapbox": [
           {
            "marker": {
             "colorbar": {
              "outlinewidth": 0,
              "ticks": ""
             }
            },
            "type": "scattermapbox"
           }
          ],
          "scatterpolar": [
           {
            "marker": {
             "colorbar": {
              "outlinewidth": 0,
              "ticks": ""
             }
            },
            "type": "scatterpolar"
           }
          ],
          "scatterpolargl": [
           {
            "marker": {
             "colorbar": {
              "outlinewidth": 0,
              "ticks": ""
             }
            },
            "type": "scatterpolargl"
           }
          ],
          "scatterternary": [
           {
            "marker": {
             "colorbar": {
              "outlinewidth": 0,
              "ticks": ""
             }
            },
            "type": "scatterternary"
           }
          ],
          "surface": [
           {
            "colorbar": {
             "outlinewidth": 0,
             "ticks": ""
            },
            "colorscale": [
             [
              0,
              "#0d0887"
             ],
             [
              0.1111111111111111,
              "#46039f"
             ],
             [
              0.2222222222222222,
              "#7201a8"
             ],
             [
              0.3333333333333333,
              "#9c179e"
             ],
             [
              0.4444444444444444,
              "#bd3786"
             ],
             [
              0.5555555555555556,
              "#d8576b"
             ],
             [
              0.6666666666666666,
              "#ed7953"
             ],
             [
              0.7777777777777778,
              "#fb9f3a"
             ],
             [
              0.8888888888888888,
              "#fdca26"
             ],
             [
              1,
              "#f0f921"
             ]
            ],
            "type": "surface"
           }
          ],
          "table": [
           {
            "cells": {
             "fill": {
              "color": "#EBF0F8"
             },
             "line": {
              "color": "white"
             }
            },
            "header": {
             "fill": {
              "color": "#C8D4E3"
             },
             "line": {
              "color": "white"
             }
            },
            "type": "table"
           }
          ]
         },
         "layout": {
          "annotationdefaults": {
           "arrowcolor": "#2a3f5f",
           "arrowhead": 0,
           "arrowwidth": 1
          },
          "autotypenumbers": "strict",
          "coloraxis": {
           "colorbar": {
            "outlinewidth": 0,
            "ticks": ""
           }
          },
          "colorscale": {
           "diverging": [
            [
             0,
             "#8e0152"
            ],
            [
             0.1,
             "#c51b7d"
            ],
            [
             0.2,
             "#de77ae"
            ],
            [
             0.3,
             "#f1b6da"
            ],
            [
             0.4,
             "#fde0ef"
            ],
            [
             0.5,
             "#f7f7f7"
            ],
            [
             0.6,
             "#e6f5d0"
            ],
            [
             0.7,
             "#b8e186"
            ],
            [
             0.8,
             "#7fbc41"
            ],
            [
             0.9,
             "#4d9221"
            ],
            [
             1,
             "#276419"
            ]
           ],
           "sequential": [
            [
             0,
             "#0d0887"
            ],
            [
             0.1111111111111111,
             "#46039f"
            ],
            [
             0.2222222222222222,
             "#7201a8"
            ],
            [
             0.3333333333333333,
             "#9c179e"
            ],
            [
             0.4444444444444444,
             "#bd3786"
            ],
            [
             0.5555555555555556,
             "#d8576b"
            ],
            [
             0.6666666666666666,
             "#ed7953"
            ],
            [
             0.7777777777777778,
             "#fb9f3a"
            ],
            [
             0.8888888888888888,
             "#fdca26"
            ],
            [
             1,
             "#f0f921"
            ]
           ],
           "sequentialminus": [
            [
             0,
             "#0d0887"
            ],
            [
             0.1111111111111111,
             "#46039f"
            ],
            [
             0.2222222222222222,
             "#7201a8"
            ],
            [
             0.3333333333333333,
             "#9c179e"
            ],
            [
             0.4444444444444444,
             "#bd3786"
            ],
            [
             0.5555555555555556,
             "#d8576b"
            ],
            [
             0.6666666666666666,
             "#ed7953"
            ],
            [
             0.7777777777777778,
             "#fb9f3a"
            ],
            [
             0.8888888888888888,
             "#fdca26"
            ],
            [
             1,
             "#f0f921"
            ]
           ]
          },
          "colorway": [
           "#636efa",
           "#EF553B",
           "#00cc96",
           "#ab63fa",
           "#FFA15A",
           "#19d3f3",
           "#FF6692",
           "#B6E880",
           "#FF97FF",
           "#FECB52"
          ],
          "font": {
           "color": "#2a3f5f"
          },
          "geo": {
           "bgcolor": "white",
           "lakecolor": "white",
           "landcolor": "#E5ECF6",
           "showlakes": true,
           "showland": true,
           "subunitcolor": "white"
          },
          "hoverlabel": {
           "align": "left"
          },
          "hovermode": "closest",
          "mapbox": {
           "style": "light"
          },
          "paper_bgcolor": "white",
          "plot_bgcolor": "#E5ECF6",
          "polar": {
           "angularaxis": {
            "gridcolor": "white",
            "linecolor": "white",
            "ticks": ""
           },
           "bgcolor": "#E5ECF6",
           "radialaxis": {
            "gridcolor": "white",
            "linecolor": "white",
            "ticks": ""
           }
          },
          "scene": {
           "xaxis": {
            "backgroundcolor": "#E5ECF6",
            "gridcolor": "white",
            "gridwidth": 2,
            "linecolor": "white",
            "showbackground": true,
            "ticks": "",
            "zerolinecolor": "white"
           },
           "yaxis": {
            "backgroundcolor": "#E5ECF6",
            "gridcolor": "white",
            "gridwidth": 2,
            "linecolor": "white",
            "showbackground": true,
            "ticks": "",
            "zerolinecolor": "white"
           },
           "zaxis": {
            "backgroundcolor": "#E5ECF6",
            "gridcolor": "white",
            "gridwidth": 2,
            "linecolor": "white",
            "showbackground": true,
            "ticks": "",
            "zerolinecolor": "white"
           }
          },
          "shapedefaults": {
           "line": {
            "color": "#2a3f5f"
           }
          },
          "ternary": {
           "aaxis": {
            "gridcolor": "white",
            "linecolor": "white",
            "ticks": ""
           },
           "baxis": {
            "gridcolor": "white",
            "linecolor": "white",
            "ticks": ""
           },
           "bgcolor": "#E5ECF6",
           "caxis": {
            "gridcolor": "white",
            "linecolor": "white",
            "ticks": ""
           }
          },
          "title": {
           "x": 0.05
          },
          "xaxis": {
           "automargin": true,
           "gridcolor": "white",
           "linecolor": "white",
           "ticks": "",
           "title": {
            "standoff": 15
           },
           "zerolinecolor": "white",
           "zerolinewidth": 2
          },
          "yaxis": {
           "automargin": true,
           "gridcolor": "white",
           "linecolor": "white",
           "ticks": "",
           "title": {
            "standoff": 15
           },
           "zerolinecolor": "white",
           "zerolinewidth": 2
          }
         }
        }
       }
      }
     },
     "metadata": {}
    },
    {
     "output_type": "stream",
     "name": "stdout",
     "text": [
      "SON IGUALES\nConneccion cerrada\nEXIT\n"
     ]
    }
   ],
   "source": [
    "#GRAFICA TANQUE AGUA\n",
    "import psycopg2\n",
    "import plotly.graph_objects as go\n",
    "import numpy as np\n",
    "import time\n",
    "import plotly as py\n",
    "\n",
    "listaX = list()\n",
    "listaY = list()\n",
    "\n",
    "try:\n",
    "    connection = psycopg2.connect(user=\"yfcxxvyb\",\n",
    "\t\t\t\t\t\t\t\t\tpassword=\"aSIUYi0BfGs7zvYwCrfOPpJNM_vsovOs\",\n",
    "\t\t\t\t\t\t\t\t\thost=\"queenie.db.elephantsql.com\",\n",
    "\t\t\t\t\t\t\t\t\tdatabase=\"yfcxxvyb\")\n",
    "    cursor = connection.cursor()\n",
    "    postgreSQL_select_Query = \"select * from tanque\"\n",
    "    cursor.execute(postgreSQL_select_Query)\n",
    "    registros_tanque = cursor.fetchall()\n",
    "\n",
    "    cursor.close()\n",
    "    connection.close()\n",
    "    \n",
    "    for row in registros_tanque:\n",
    "        listaX.append(row[1])\n",
    "        listaY.append(row[2])\n",
    "\n",
    "    data = [go.Scatter( x=listaY, y=listaX)]\n",
    "    fig = go.Figure(data)\n",
    "    fig.show()\n",
    "\n",
    "    \n",
    "\n",
    "    while(True):\n",
    "        time.sleep(5)\n",
    "        connection = psycopg2.connect(user=\"yfcxxvyb\",\n",
    "                                        password=\"aSIUYi0BfGs7zvYwCrfOPpJNM_vsovOs\",\n",
    "                                        host=\"queenie.db.elephantsql.com\",\n",
    "                                        database=\"yfcxxvyb\")\n",
    "        cursor = connection.cursor()\n",
    "        postgreSQL_select_Query = \"select * from tanque\"\n",
    "        cursor.execute(postgreSQL_select_Query)\n",
    "        auxQuery = cursor.fetchall()\n",
    "        if(registros_tanque != auxQuery):\n",
    "            print(\"Son distintos\")\n",
    "            registros_tanque = auxQuery\n",
    "            listaX = []\n",
    "            listaY = []\n",
    "            for row in registros_tanque:\n",
    "                listaX.append(row[1])\n",
    "                listaY.append(row[2])\n",
    "            data = [go.Scatter(x=listaY, y=listaX)]\n",
    "            fig = go.Figure(data)\n",
    "            fig.show()\n",
    "            cursor.close()\n",
    "            connection.close()\n",
    "        else:\n",
    "            print(\"SON IGUALES\")\n",
    "            break   \n",
    "\n",
    "except (Exception, psycopg2.Error) as error:\n",
    "    print(\"Error while fetching data from PostgreSQL\", error)\n",
    "\n",
    "finally:\n",
    "    # closing database connection.\n",
    "    if connection:\n",
    "        cursor.close()\n",
    "        connection.close()\n",
    "        print(\"Conneccion cerrada\")\n",
    "print(\"EXIT\")\n",
    "\n"
   ]
  },
  {
   "cell_type": "code",
   "execution_count": null,
   "metadata": {},
   "outputs": [],
   "source": [
    "#GRAFICA TEMP OLLA\n",
    "import psycopg2\n",
    "import plotly.graph_objects as go\n",
    "import numpy as np\n",
    "import time\n",
    "import plotly as py\n",
    "\n",
    "listaX = list()\n",
    "listaY = list()\n",
    "\n",
    "try:\n",
    "    connection = psycopg2.connect(user=\"yfcxxvyb\",\n",
    "\t\t\t\t\t\t\t\t\tpassword=\"aSIUYi0BfGs7zvYwCrfOPpJNM_vsovOs\",\n",
    "\t\t\t\t\t\t\t\t\thost=\"queenie.db.elephantsql.com\",\n",
    "\t\t\t\t\t\t\t\t\tdatabase=\"yfcxxvyb\")\n",
    "    cursor = connection.cursor()\n",
    "    postgreSQL_select_Query = \"select * from temp_olla\"\n",
    "    cursor.execute(postgreSQL_select_Query)\n",
    "    registros_tanque = cursor.fetchall()\n",
    "\n",
    "    cursor.close()\n",
    "    connection.close()\n",
    "    \n",
    "    for row in registros_tanque:\n",
    "        listaX.append(row[1])\n",
    "        listaY.append(row[2])\n",
    "\n",
    "    data = [go.Scatter( x=listaY, y=listaX)]\n",
    "    fig = go.Figure(data)\n",
    "    fig.show()\n",
    "\n",
    "    \n",
    "\n",
    "    while(True):\n",
    "        time.sleep(5)\n",
    "        connection = psycopg2.connect(user=\"yfcxxvyb\",\n",
    "                                        password=\"aSIUYi0BfGs7zvYwCrfOPpJNM_vsovOs\",\n",
    "                                        host=\"queenie.db.elephantsql.com\",\n",
    "                                        database=\"yfcxxvyb\")\n",
    "        cursor = connection.cursor()\n",
    "        postgreSQL_select_Query = \"select * from temp_olla\"\n",
    "        cursor.execute(postgreSQL_select_Query)\n",
    "        auxQuery = cursor.fetchall()\n",
    "        if(registros_tanque != auxQuery):\n",
    "            print(\"Son distintos\")\n",
    "            registros_tanque = auxQuery\n",
    "            listaX = []\n",
    "            listaY = []\n",
    "            for row in registros_tanque:\n",
    "                listaX.append(row[1])\n",
    "                listaY.append(row[2])\n",
    "            data = [go.Scatter(x=listaY, y=listaX)]\n",
    "            fig = go.Figure(data)\n",
    "            fig.show()\n",
    "            cursor.close()\n",
    "            connection.close()\n",
    "        else:\n",
    "            print(\"SON IGUALES\")\n",
    "            break   \n",
    "\n",
    "except (Exception, psycopg2.Error) as error:\n",
    "    print(\"Error while fetching data from PostgreSQL\", error)\n",
    "\n",
    "finally:\n",
    "    # closing database connection.\n",
    "    if connection:\n",
    "        cursor.close()\n",
    "        connection.close()\n",
    "        print(\"Conneccion cerrada\")\n",
    "print(\"EXIT\")"
   ]
  },
  {
   "cell_type": "code",
   "execution_count": null,
   "metadata": {},
   "outputs": [],
   "source": [
    "#GRAFICA CONTADOR PERSONAS\n",
    "import psycopg2\n",
    "import plotly.graph_objects as go\n",
    "import numpy as np\n",
    "import time\n",
    "import plotly as py\n",
    "\n",
    "listaX = list()\n",
    "listaY = list()\n",
    "\n",
    "try:\n",
    "    connection = psycopg2.connect(user=\"yfcxxvyb\",\n",
    "\t\t\t\t\t\t\t\t\tpassword=\"aSIUYi0BfGs7zvYwCrfOPpJNM_vsovOs\",\n",
    "\t\t\t\t\t\t\t\t\thost=\"queenie.db.elephantsql.com\",\n",
    "\t\t\t\t\t\t\t\t\tdatabase=\"yfcxxvyb\")\n",
    "    cursor = connection.cursor()\n",
    "    postgreSQL_select_Query = \"select * from contador_pers\"\n",
    "    cursor.execute(postgreSQL_select_Query)\n",
    "    registros_tanque = cursor.fetchall()\n",
    "\n",
    "    cursor.close()\n",
    "    connection.close()\n",
    "    \n",
    "    for row in registros_tanque:\n",
    "        listaX.append(row[1])\n",
    "        listaY.append(row[2])\n",
    "\n",
    "    data = [go.Scatter( x=listaY, y=listaX)]\n",
    "    fig = go.Figure(data)\n",
    "    fig.show()\n",
    "\n",
    "    \n",
    "\n",
    "    while(True):\n",
    "        time.sleep(5)\n",
    "        connection = psycopg2.connect(user=\"yfcxxvyb\",\n",
    "                                        password=\"aSIUYi0BfGs7zvYwCrfOPpJNM_vsovOs\",\n",
    "                                        host=\"queenie.db.elephantsql.com\",\n",
    "                                        database=\"yfcxxvyb\")\n",
    "        cursor = connection.cursor()\n",
    "        postgreSQL_select_Query = \"select * from contador_pers\"\n",
    "        cursor.execute(postgreSQL_select_Query)\n",
    "        auxQuery = cursor.fetchall()\n",
    "        if(registros_tanque != auxQuery):\n",
    "            print(\"Son distintos\")\n",
    "            registros_tanque = auxQuery\n",
    "            listaX = []\n",
    "            listaY = []\n",
    "            for row in registros_tanque:\n",
    "                listaX.append(row[1])\n",
    "                listaY.append(row[2])\n",
    "            data = [go.Scatter(x=listaY, y=listaX)]\n",
    "            fig = go.Figure(data)\n",
    "            fig.show()\n",
    "            cursor.close()\n",
    "            connection.close()\n",
    "        else:\n",
    "            print(\"SON IGUALES\")\n",
    "            break   \n",
    "\n",
    "except (Exception, psycopg2.Error) as error:\n",
    "    print(\"Error while fetching data from PostgreSQL\", error)\n",
    "\n",
    "finally:\n",
    "    # closing database connection.\n",
    "    if connection:\n",
    "        cursor.close()\n",
    "        connection.close()\n",
    "        print(\"Conneccion cerrada\")\n",
    "print(\"EXIT\")"
   ]
  },
  {
   "cell_type": "code",
   "execution_count": null,
   "metadata": {},
   "outputs": [],
   "source": [
    "import psycopg2\n",
    "import plotly.graph_objects as go\n",
    "import numpy as np\n",
    "import time\n",
    "import plotly as py\n",
    "\n",
    "listaX = list()\n",
    "listaY = list()\n",
    "\n",
    "try:\n",
    "    connection = psycopg2.connect(user=\"yfcxxvyb\",\n",
    "\t\t\t\t\t\t\t\t\tpassword=\"aSIUYi0BfGs7zvYwCrfOPpJNM_vsovOs\",\n",
    "\t\t\t\t\t\t\t\t\thost=\"queenie.db.elephantsql.com\",\n",
    "\t\t\t\t\t\t\t\t\tdatabase=\"yfcxxvyb\")\n",
    "    cursor = connection.cursor()\n",
    "    postgreSQL_select_Query = \"select * from alexa_echo\"\n",
    "    cursor.execute(postgreSQL_select_Query)\n",
    "    registros_tanque = cursor.fetchall()\n",
    "\n",
    "    cursor.close()\n",
    "    connection.close()\n",
    "    \n",
    "    for row in registros_tanque:\n",
    "        listaX.append(row[1])\n",
    "        listaY.append(row[2])\n",
    "\n",
    "    data = [go.Scatter( x=listaY, y=listaX)]\n",
    "    fig = go.Figure(data)\n",
    "    fig.show()\n",
    "\n",
    "    \n",
    "\n",
    "    while(True):\n",
    "        time.sleep(5)\n",
    "        connection = psycopg2.connect(user=\"yfcxxvyb\",\n",
    "                                        password=\"aSIUYi0BfGs7zvYwCrfOPpJNM_vsovOs\",\n",
    "                                        host=\"queenie.db.elephantsql.com\",\n",
    "                                        database=\"yfcxxvyb\")\n",
    "        cursor = connection.cursor()\n",
    "        postgreSQL_select_Query = \"select * from alexa_echo\"\n",
    "        cursor.execute(postgreSQL_select_Query)\n",
    "        auxQuery = cursor.fetchall()\n",
    "        if(registros_tanque != auxQuery):\n",
    "            print(\"Son distintos\")\n",
    "            registros_tanque = auxQuery\n",
    "            listaX = []\n",
    "            listaY = []\n",
    "            for row in registros_tanque:\n",
    "                listaX.append(row[1])\n",
    "                listaY.append(row[2])\n",
    "            data = [go.Scatter(x=listaY, y=listaX)]\n",
    "            fig = go.Figure(data)\n",
    "            fig.show()\n",
    "            cursor.close()\n",
    "            connection.close()\n",
    "        else:\n",
    "            print(\"SON IGUALES\")\n",
    "            break   \n",
    "\n",
    "except (Exception, psycopg2.Error) as error:\n",
    "    print(\"Error while fetching data from PostgreSQL\", error)\n",
    "\n",
    "finally:\n",
    "    # closing database connection.\n",
    "    if connection:\n",
    "        cursor.close()\n",
    "        connection.close()\n",
    "        print(\"Conneccion cerrada\")\n",
    "print(\"EXIT\")"
   ]
  }
 ]
}